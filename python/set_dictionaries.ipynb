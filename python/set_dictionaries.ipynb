{
 "cells": [
  {
   "cell_type": "code",
   "execution_count": 16,
   "metadata": {},
   "outputs": [],
   "source": [
    "set1 = {\"Ali\", \"Arfa\", \"Umer\", \"Naveed\"}\n",
    "set2 = {\"Ali\", \"Arfa\", \"Umer\"}"
   ]
  },
  {
   "cell_type": "code",
   "execution_count": 17,
   "metadata": {},
   "outputs": [
    {
     "data": {
      "text/plain": [
       "{'Naveed'}"
      ]
     },
     "execution_count": 17,
     "metadata": {},
     "output_type": "execute_result"
    }
   ],
   "source": [
    "set1.difference(set2)"
   ]
  },
  {
   "cell_type": "code",
   "execution_count": 18,
   "metadata": {},
   "outputs": [
    {
     "data": {
      "text/plain": [
       "{'Ali', 'Arfa', 'Naveed', 'Umer'}"
      ]
     },
     "execution_count": 18,
     "metadata": {},
     "output_type": "execute_result"
    }
   ],
   "source": [
    "set1.union(set2)"
   ]
  },
  {
   "cell_type": "code",
   "execution_count": 19,
   "metadata": {},
   "outputs": [
    {
     "data": {
      "text/plain": [
       "{'Ali', 'Arfa', 'Umer'}"
      ]
     },
     "execution_count": 19,
     "metadata": {},
     "output_type": "execute_result"
    }
   ],
   "source": [
    "set1.intersection(set2)"
   ]
  },
  {
   "cell_type": "code",
   "execution_count": 21,
   "metadata": {},
   "outputs": [
    {
     "data": {
      "text/plain": [
       "{'Naveed'}"
      ]
     },
     "execution_count": 21,
     "metadata": {},
     "output_type": "execute_result"
    }
   ],
   "source": [
    "set1.difference_update(set2)\n",
    "set1"
   ]
  },
  {
   "cell_type": "code",
   "execution_count": 22,
   "metadata": {},
   "outputs": [],
   "source": [
    "punjab_cities = {\n",
    "    \"city1\": \"Lahore\",\n",
    "    \"city2\": \"Faisalabad\",\n",
    "    \"city3\": \"Rawalpindi\",\n",
    "    \"city4\": \"Multan\",\n",
    "    \"city5\": \"Gujranwala\"\n",
    "}\n"
   ]
  },
  {
   "cell_type": "code",
   "execution_count": 23,
   "metadata": {},
   "outputs": [
    {
     "name": "stdout",
     "output_type": "stream",
     "text": [
      "city1\n",
      "city2\n",
      "city3\n",
      "city4\n",
      "city5\n"
     ]
    }
   ],
   "source": [
    "for x in punjab_cities:\n",
    "    print(x)"
   ]
  },
  {
   "cell_type": "code",
   "execution_count": 25,
   "metadata": {},
   "outputs": [
    {
     "name": "stdout",
     "output_type": "stream",
     "text": [
      "Lahore\n",
      "Faisalabad\n",
      "Rawalpindi\n",
      "Multan\n",
      "Gujranwala\n"
     ]
    }
   ],
   "source": [
    "for x in punjab_cities.values():\n",
    "    print(x)"
   ]
  },
  {
   "cell_type": "code",
   "execution_count": 27,
   "metadata": {},
   "outputs": [
    {
     "name": "stdout",
     "output_type": "stream",
     "text": [
      "('city1', 'Lahore')\n",
      "('city2', 'Faisalabad')\n",
      "('city3', 'Rawalpindi')\n",
      "('city4', 'Multan')\n",
      "('city5', 'Gujranwala')\n"
     ]
    }
   ],
   "source": [
    "for x in punjab_cities.items():\n",
    "    print(x)"
   ]
  },
  {
   "cell_type": "code",
   "execution_count": 31,
   "metadata": {},
   "outputs": [
    {
     "name": "stdout",
     "output_type": "stream",
     "text": [
      "city1 : Lahore\n",
      "city2 : Faisalabad\n",
      "city3 : Rawalpindi\n",
      "city4 : Multan\n",
      "city5 : Gujranwala\n"
     ]
    }
   ],
   "source": [
    "for key, value in punjab_cities.items():\n",
    "    print(f\"{key} : {value}\")"
   ]
  },
  {
   "cell_type": "code",
   "execution_count": 32,
   "metadata": {},
   "outputs": [
    {
     "data": {
      "text/plain": [
       "{'city1': 'Lahore',\n",
       " 'city2': 'Faisalabad',\n",
       " 'city3': 'Rawalpindi',\n",
       " 'city4': 'Multan',\n",
       " 'city5': 'Gujranwala',\n",
       " 'city6': 'Khanewal'}"
      ]
     },
     "execution_count": 32,
     "metadata": {},
     "output_type": "execute_result"
    }
   ],
   "source": [
    "punjab_cities['city6'] = \"Khanewal\"\n",
    "punjab_cities"
   ]
  },
  {
   "cell_type": "code",
   "execution_count": 1,
   "metadata": {},
   "outputs": [],
   "source": [
    "import numpy as np"
   ]
  },
  {
   "cell_type": "code",
   "execution_count": 2,
   "metadata": {},
   "outputs": [
    {
     "name": "stdout",
     "output_type": "stream",
     "text": [
      "[58.62828102 62.48254813 59.84330301 54.55947452 63.19908168 57.74540508\n",
      " 64.4047633  61.57212657 62.38120249 60.75583932 56.36928828 56.25722572\n",
      " 58.16661884 59.75746042 60.59276089 49.91030858 61.0596979  60.90326933\n",
      " 57.19351412 58.31021067 63.08531131 67.46155932 60.91208294 60.61548487\n",
      " 62.27189772 63.53546065 57.93830917 63.50372707 60.41441494 56.37409814]\n"
     ]
    }
   ],
   "source": [
    "import numpy as np\n",
    "\n",
    "mean = 60  # Midpoint of 51 and 69\n",
    "std_dev = (69 - 51) / 6  # Approximate standard deviation\n",
    "\n",
    "points = mean + std_dev * np.random.randn(30)  # Generate 30 standard normal points and scale them\n",
    "\n",
    "print(points)\n"
   ]
  },
  {
   "cell_type": "code",
   "execution_count": 4,
   "metadata": {},
   "outputs": [
    {
     "data": {
      "text/plain": [
       "array([58.6283, 62.4825, 59.8433, 54.5595, 63.1991, 57.7454, 64.4048,\n",
       "       61.5721, 62.3812, 60.7558, 56.3693, 56.2572, 58.1666, 59.7575,\n",
       "       60.5928, 49.9103, 61.0597, 60.9033, 57.1935, 58.3102, 63.0853,\n",
       "       67.4616, 60.9121, 60.6155, 62.2719, 63.5355, 57.9383, 63.5037,\n",
       "       60.4144, 56.3741])"
      ]
     },
     "execution_count": 4,
     "metadata": {},
     "output_type": "execute_result"
    }
   ],
   "source": [
    "points.round(4)"
   ]
  },
  {
   "cell_type": "code",
   "execution_count": 6,
   "metadata": {},
   "outputs": [
    {
     "data": {
      "text/plain": [
       "np.float64(60.006824200254904)"
      ]
     },
     "execution_count": 6,
     "metadata": {},
     "output_type": "execute_result"
    }
   ],
   "source": [
    "sum(points)/30"
   ]
  },
  {
   "cell_type": "code",
   "execution_count": null,
   "metadata": {},
   "outputs": [],
   "source": []
  }
 ],
 "metadata": {
  "kernelspec": {
   "display_name": "Python 3",
   "language": "python",
   "name": "python3"
  },
  "language_info": {
   "codemirror_mode": {
    "name": "ipython",
    "version": 3
   },
   "file_extension": ".py",
   "mimetype": "text/x-python",
   "name": "python",
   "nbconvert_exporter": "python",
   "pygments_lexer": "ipython3",
   "version": "3.13.0"
  }
 },
 "nbformat": 4,
 "nbformat_minor": 2
}
