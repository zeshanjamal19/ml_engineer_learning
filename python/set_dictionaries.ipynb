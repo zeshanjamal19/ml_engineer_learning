{
 "cells": [
  {
   "cell_type": "code",
   "execution_count": 16,
   "metadata": {},
   "outputs": [],
   "source": [
    "set1 = {\"Ali\", \"Arfa\", \"Umer\", \"Naveed\"}\n",
    "set2 = {\"Ali\", \"Arfa\", \"Umer\"}"
   ]
  },
  {
   "cell_type": "code",
   "execution_count": 17,
   "metadata": {},
   "outputs": [
    {
     "data": {
      "text/plain": [
       "{'Naveed'}"
      ]
     },
     "execution_count": 17,
     "metadata": {},
     "output_type": "execute_result"
    }
   ],
   "source": [
    "set1.difference(set2)"
   ]
  },
  {
   "cell_type": "code",
   "execution_count": 18,
   "metadata": {},
   "outputs": [
    {
     "data": {
      "text/plain": [
       "{'Ali', 'Arfa', 'Naveed', 'Umer'}"
      ]
     },
     "execution_count": 18,
     "metadata": {},
     "output_type": "execute_result"
    }
   ],
   "source": [
    "set1.union(set2)"
   ]
  },
  {
   "cell_type": "code",
   "execution_count": 19,
   "metadata": {},
   "outputs": [
    {
     "data": {
      "text/plain": [
       "{'Ali', 'Arfa', 'Umer'}"
      ]
     },
     "execution_count": 19,
     "metadata": {},
     "output_type": "execute_result"
    }
   ],
   "source": [
    "set1.intersection(set2)"
   ]
  },
  {
   "cell_type": "code",
   "execution_count": 21,
   "metadata": {},
   "outputs": [
    {
     "data": {
      "text/plain": [
       "{'Naveed'}"
      ]
     },
     "execution_count": 21,
     "metadata": {},
     "output_type": "execute_result"
    }
   ],
   "source": [
    "set1.difference_update(set2)\n",
    "set1"
   ]
  },
  {
   "cell_type": "code",
   "execution_count": 22,
   "metadata": {},
   "outputs": [],
   "source": [
    "punjab_cities = {\n",
    "    \"city1\": \"Lahore\",\n",
    "    \"city2\": \"Faisalabad\",\n",
    "    \"city3\": \"Rawalpindi\",\n",
    "    \"city4\": \"Multan\",\n",
    "    \"city5\": \"Gujranwala\"\n",
    "}\n"
   ]
  },
  {
   "cell_type": "code",
   "execution_count": 23,
   "metadata": {},
   "outputs": [
    {
     "name": "stdout",
     "output_type": "stream",
     "text": [
      "city1\n",
      "city2\n",
      "city3\n",
      "city4\n",
      "city5\n"
     ]
    }
   ],
   "source": [
    "for x in punjab_cities:\n",
    "    print(x)"
   ]
  },
  {
   "cell_type": "code",
   "execution_count": 25,
   "metadata": {},
   "outputs": [
    {
     "name": "stdout",
     "output_type": "stream",
     "text": [
      "Lahore\n",
      "Faisalabad\n",
      "Rawalpindi\n",
      "Multan\n",
      "Gujranwala\n"
     ]
    }
   ],
   "source": [
    "for x in punjab_cities.values():\n",
    "    print(x)"
   ]
  },
  {
   "cell_type": "code",
   "execution_count": 27,
   "metadata": {},
   "outputs": [
    {
     "name": "stdout",
     "output_type": "stream",
     "text": [
      "('city1', 'Lahore')\n",
      "('city2', 'Faisalabad')\n",
      "('city3', 'Rawalpindi')\n",
      "('city4', 'Multan')\n",
      "('city5', 'Gujranwala')\n"
     ]
    }
   ],
   "source": [
    "for x in punjab_cities.items():\n",
    "    print(x)"
   ]
  },
  {
   "cell_type": "code",
   "execution_count": 31,
   "metadata": {},
   "outputs": [
    {
     "name": "stdout",
     "output_type": "stream",
     "text": [
      "city1 : Lahore\n",
      "city2 : Faisalabad\n",
      "city3 : Rawalpindi\n",
      "city4 : Multan\n",
      "city5 : Gujranwala\n"
     ]
    }
   ],
   "source": [
    "for key, value in punjab_cities.items():\n",
    "    print(f\"{key} : {value}\")"
   ]
  },
  {
   "cell_type": "code",
   "execution_count": 32,
   "metadata": {},
   "outputs": [
    {
     "data": {
      "text/plain": [
       "{'city1': 'Lahore',\n",
       " 'city2': 'Faisalabad',\n",
       " 'city3': 'Rawalpindi',\n",
       " 'city4': 'Multan',\n",
       " 'city5': 'Gujranwala',\n",
       " 'city6': 'Khanewal'}"
      ]
     },
     "execution_count": 32,
     "metadata": {},
     "output_type": "execute_result"
    }
   ],
   "source": [
    "punjab_cities['city6'] = \"Khanewal\"\n",
    "punjab_cities"
   ]
  },
  {
   "cell_type": "code",
   "execution_count": null,
   "metadata": {},
   "outputs": [],
   "source": []
  }
 ],
 "metadata": {
  "language_info": {
   "name": "python"
  }
 },
 "nbformat": 4,
 "nbformat_minor": 2
}
